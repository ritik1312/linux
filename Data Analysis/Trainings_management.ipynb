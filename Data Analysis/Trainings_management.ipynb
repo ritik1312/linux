{
 "cells": [
  {
   "cell_type": "code",
   "execution_count": 1,
   "id": "56a80462",
   "metadata": {},
   "outputs": [],
   "source": [
    "# !pip install mysql-connector-python\n",
    "import mysql.connector\n",
    "import json"
   ]
  },
  {
   "cell_type": "code",
   "execution_count": 2,
   "id": "2908e240",
   "metadata": {},
   "outputs": [
    {
     "data": {
      "text/plain": [
       "[{'name': 'Python Training',\n",
       "  'date': 'April 19, 2024',\n",
       "  'completed': True,\n",
       "  'instructor': {'name': 'XYZ', 'website': 'http://pqr.com/'},\n",
       "  'participants': [{'name': 'Participant 1', 'email': 'email1@example.com'},\n",
       "   {'name': 'Participant 2', 'email': 'email2@example.com'}]},\n",
       " {'name': 'JavaScript Workshop',\n",
       "  'date': 'May 10, 2024',\n",
       "  'completed': False,\n",
       "  'instructor': {'name': 'ABC', 'website': 'http://xyz.com/'},\n",
       "  'participants': [{'name': 'Participant 3', 'email': 'email3@example.com'},\n",
       "   {'name': 'Participant 4', 'email': 'email4@example.com'}]}]"
      ]
     },
     "execution_count": 2,
     "metadata": {},
     "output_type": "execute_result"
    }
   ],
   "source": [
    "with open(\"trainings_data.json\") as file:\n",
    "    data = json.load(file)\n",
    "data[\"trainings\"]"
   ]
  },
  {
   "cell_type": "code",
   "execution_count": 3,
   "id": "fcf1955e-ca35-40c5-b8ad-f2d6e688fddd",
   "metadata": {},
   "outputs": [
    {
     "name": "stdout",
     "output_type": "stream",
     "text": [
      "DB successfully connected!\n"
     ]
    }
   ],
   "source": [
    "#connection object\n",
    "conn_obj = mysql.connector.connect(\n",
    "    host=\"localhost\",\n",
    "    user=\"root\",\n",
    "    passwd=\"abcd1234\",\n",
    "    database = \"Trainings\"\n",
    ")\n",
    "\n",
    "cur_obj = conn_obj.cursor()\n",
    "\n",
    "print(\"DB successfully connected!\")"
   ]
  },
  {
   "cell_type": "code",
   "execution_count": 13,
   "id": "34cb2f9d-4e3c-458c-8409-d725ccec46ef",
   "metadata": {},
   "outputs": [],
   "source": [
    "delete_table = 'DROP TABLE IF EXISTS '\n",
    "cur_obj.execute(delete_table + 'Participants')\n",
    "cur_obj.execute(delete_table + 'Training_sessions')\n",
    "cur_obj.execute(delete_table + 'Instructors')"
   ]
  },
  {
   "cell_type": "code",
   "execution_count": 14,
   "id": "76fe96f1",
   "metadata": {},
   "outputs": [],
   "source": [
    "create_table = 'CREATE TABLE IF NOT EXISTS'\n",
    "\n",
    "create_instructors_table = create_table + \"\"\" Instructors (\n",
    "    Id INT PRIMARY KEY AUTO_INCREMENT,\n",
    "    Name VARCHAR(50),\n",
    "    Website VARCHAR(50)\n",
    ")\"\"\"\n",
    "\n",
    "cur_obj.execute(create_instructors_table)\n",
    "\n",
    "create_training_sessions_table = create_table + \"\"\" Training_sessions (\n",
    "    Id INT PRIMARY KEY AUTO_INCREMENT,\n",
    "    Name VARCHAR(50),\n",
    "    Date DATE,\n",
    "    Completed BOOLEAN,\n",
    "    Instructor_id INT,\n",
    "    FOREIGN KEY (Instructor_id) REFERENCES Instructors (Id)\n",
    ")\"\"\"\n",
    "\n",
    "cur_obj.execute(create_training_sessions_table)\n",
    "\n",
    "\n",
    "create_participants_table = create_table + \"\"\" Participants (\n",
    "    Id INT PRIMARY KEY AUTO_INCREMENT,\n",
    "    Name VARCHAR(50),\n",
    "    Email VARCHAR(50),\n",
    "    Session_id INT,\n",
    "    FOREIGN KEY (Session_id) REFERENCES Training_sessions (Id)\n",
    ")\"\"\"\n",
    "\n",
    "cur_obj.execute(create_participants_table)\n",
    "conn_obj.commit()"
   ]
  },
  {
   "cell_type": "code",
   "execution_count": 15,
   "id": "b14d4072-715e-4961-8fb7-4dab7feabb2a",
   "metadata": {},
   "outputs": [],
   "source": [
    "from datetime import datetime\n",
    "\n",
    "def convert_date(date_str, format):\n",
    "    date_time = datetime.strptime(date_str, format)\n",
    "    return date_time.date()\n",
    "\n",
    "insert_into_training_sessions = \"\"\"INSERT INTO Training_sessions \n",
    "(Name, Date, Completed, Instructor_id) VALUES (%s, %s, %s, %s)\"\"\"\n",
    "\n",
    "for training in data[\"trainings\"]:\n",
    "    name = training[\"name\"]\n",
    "    date = convert_date(training[\"date\"], format='%B %d, %Y')\n",
    "    completed = training[\"completed\"]\n",
    "    instructor = training[\"instructor\"]\n",
    "    participants_data = training[\"participants\"]\n",
    "    \n",
    "    cur_obj.execute(\"INSERT INTO Instructors (Name, Website) VALUES (%s, %s)\", list(instructor.values()))\n",
    "    \n",
    "    instructor_id = cur_obj.lastrowid\n",
    "    cur_obj.execute(insert_into_training_sessions, [name, date, completed, instructor_id])\n",
    "\n",
    "    session_id = cur_obj.lastrowid\n",
    "    for participant in participants_data:\n",
    "        participant['session_id'] = session_id\n",
    "        cur_obj.execute(\"INSERT INTO Participants (Name, Email, Session_id) VALUES (%s, %s, %s)\", list(participant.values()))"
   ]
  },
  {
   "cell_type": "code",
   "execution_count": 16,
   "id": "46d82285-ffb8-4439-a775-98db8ec61908",
   "metadata": {},
   "outputs": [],
   "source": [
    "conn_obj.commit()\n",
    "conn_obj.close()"
   ]
  }
 ],
 "metadata": {
  "kernelspec": {
   "display_name": "Python 3 (ipykernel)",
   "language": "python",
   "name": "python3"
  },
  "language_info": {
   "codemirror_mode": {
    "name": "ipython",
    "version": 3
   },
   "file_extension": ".py",
   "mimetype": "text/x-python",
   "name": "python",
   "nbconvert_exporter": "python",
   "pygments_lexer": "ipython3",
   "version": "3.11.7"
  }
 },
 "nbformat": 4,
 "nbformat_minor": 5
}
